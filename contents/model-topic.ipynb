{
 "cells": [
  {
   "cell_type": "markdown",
   "metadata": {
    "_uuid": "9341bf79ac503efb2b0c19cae84b17b48c30e211"
   },
   "source": [
    "# Topic Modelling mengunakan Latent Semantic Analysis(LSA) dan Latent directlet Allocation(LDA)"
   ]
  },
  {
   "cell_type": "markdown",
   "metadata": {
    "_uuid": "6a503c2851673a3d3ec1eb2c3d6c6e5566292af1"
   },
   "source": [
    "## Import Library\n",
    "\n",
    "### Library yang digunakan\n",
    "\n",
    "- **Pandas**\\\n",
    "    Manipulasi dan membaca data dengan bentuk tabel. \n",
    "\n",
    "- **matplotlib**\\\n",
    "    Memvisualisasi data.\n",
    "\n",
    "- **PySastrawi**\\\n",
    "    Melakukan text processing pada data teks.\n",
    "\n",
    "- **scikit-learn**\\\n",
    "    Menghitung TF dan TF-IDF.\n",
    "\n",
    "- **WordCloud**\\\n",
    "    Memvisualisasi kata yang paling sering muncul. "
   ]
  },
  {
   "cell_type": "code",
   "execution_count": 1,
   "metadata": {
    "_uuid": "39f140e85d319161012fb67f258dd6b339545b0a",
    "id": "5O5_-2kTGD6V"
   },
   "outputs": [],
   "source": [
    "# import library yang dibutuhkan\n",
    "import numpy as np\n",
    "import pandas as pd\n",
    "import matplotlib.pyplot as plt\n",
    "from matplotlib import style\n",
    "from wordcloud import WordCloud\n",
    "\n",
    "%matplotlib inline  \n",
    "style.use('fivethirtyeight')\n",
    "\n",
    "# Proses Pre-prosesing text\n",
    "import re\n",
    "import string\n",
    "from Sastrawi.StopWordRemover.StopWordRemoverFactory import StopWordRemoverFactory\n",
    "\n",
    "# membuat dokument DTM\n",
    "from sklearn.feature_extraction.text import TfidfVectorizer\n",
    "from sklearn.decomposition import TruncatedSVD\n",
    "from sklearn.decomposition import LatentDirichletAllocation"
   ]
  },
  {
   "cell_type": "code",
   "execution_count": 2,
   "metadata": {},
   "outputs": [],
   "source": [
    "# Melakukan setting jumlah kolom maksimal pada output\n",
    "pd.options.display.max_columns = 10"
   ]
  },
  {
   "cell_type": "markdown",
   "metadata": {
    "_uuid": "a2b520342f1761de78285e76aa6327d9d37b1f4e"
   },
   "source": [
    "## Data set Jurnal"
   ]
  },
  {
   "cell_type": "markdown",
   "metadata": {},
   "source": [
    "Dataset : [DataSet](https://github.com/egi-190137/topic-modelling-sklearn/blob/main/contents/dataset_pta.csv)\n",
    "\n",
    "Dataset yang digunakan adalah hasil dari proses crawling judul dan abstraksi jurnal-jurnal yang juga telah terdapat nilai kolom bidang minat dan tanpa ada duplikasi data."
   ]
  },
  {
   "cell_type": "code",
   "execution_count": 3,
   "metadata": {
    "_uuid": "aad495ed355e99947bc3b9816cfad0ff430c17e5",
    "id": "xaPWCpthHVIS"
   },
   "outputs": [],
   "source": [
    "df = pd.read_csv('dataset_pta.csv')"
   ]
  },
  {
   "cell_type": "code",
   "execution_count": 4,
   "metadata": {
    "_uuid": "e09dd69ffa2bae1920f3e10b1af0a8ce0f8ae16d",
    "id": "Wwf4uKjTIYm2",
    "outputId": "9fac48b8-49af-44ff-f06b-d4b7440110b7"
   },
   "outputs": [
    {
     "data": {
      "text/html": [
       "<div>\n",
       "<style scoped>\n",
       "    .dataframe tbody tr th:only-of-type {\n",
       "        vertical-align: middle;\n",
       "    }\n",
       "\n",
       "    .dataframe tbody tr th {\n",
       "        vertical-align: top;\n",
       "    }\n",
       "\n",
       "    .dataframe thead th {\n",
       "        text-align: right;\n",
       "    }\n",
       "</style>\n",
       "<table border=\"1\" class=\"dataframe\">\n",
       "  <thead>\n",
       "    <tr style=\"text-align: right;\">\n",
       "      <th></th>\n",
       "      <th>judul</th>\n",
       "      <th>abstraksi</th>\n",
       "      <th>bidang minat</th>\n",
       "    </tr>\n",
       "  </thead>\n",
       "  <tbody>\n",
       "    <tr>\n",
       "      <th>0</th>\n",
       "      <td>Gerak Pekerja Pada Game Real Time Strategy Men...</td>\n",
       "      <td>Gerak pekerja ada pada game yang memiliki genr...</td>\n",
       "      <td>CAI</td>\n",
       "    </tr>\n",
       "    <tr>\n",
       "      <th>1</th>\n",
       "      <td>PEMANFAATAN TOGAF ADM UNTUK PERANCANGAN SISTEM...</td>\n",
       "      <td>Penyusunan Sistem Informasi Dinas Perindustria...</td>\n",
       "      <td>RPL</td>\n",
       "    </tr>\n",
       "    <tr>\n",
       "      <th>2</th>\n",
       "      <td>RANCANG BANGUN MANAJEMEN PEMBELAJARAN DAN TES ...</td>\n",
       "      <td>Penggunaan teknologi mobile saat ini sangat ma...</td>\n",
       "      <td>RPL</td>\n",
       "    </tr>\n",
       "    <tr>\n",
       "      <th>3</th>\n",
       "      <td>SISTEM PENDUKUNG KEPUTUSAN PEMILIHAN KARYAWAN ...</td>\n",
       "      <td>Sumber daya manusia mutlak dibutuhkan untuk ke...</td>\n",
       "      <td>CAI</td>\n",
       "    </tr>\n",
       "    <tr>\n",
       "      <th>4</th>\n",
       "      <td>SISTEM PENENTUAN STATUS GIZI PASIEN RAWAT INAP...</td>\n",
       "      <td>Di Indonesia masalah perkembangan gizi adalah ...</td>\n",
       "      <td>CAI</td>\n",
       "    </tr>\n",
       "  </tbody>\n",
       "</table>\n",
       "</div>"
      ],
      "text/plain": [
       "                                               judul  \\\n",
       "0  Gerak Pekerja Pada Game Real Time Strategy Men...   \n",
       "1  PEMANFAATAN TOGAF ADM UNTUK PERANCANGAN SISTEM...   \n",
       "2  RANCANG BANGUN MANAJEMEN PEMBELAJARAN DAN TES ...   \n",
       "3  SISTEM PENDUKUNG KEPUTUSAN PEMILIHAN KARYAWAN ...   \n",
       "4  SISTEM PENENTUAN STATUS GIZI PASIEN RAWAT INAP...   \n",
       "\n",
       "                                           abstraksi bidang minat  \n",
       "0  Gerak pekerja ada pada game yang memiliki genr...          CAI  \n",
       "1  Penyusunan Sistem Informasi Dinas Perindustria...          RPL  \n",
       "2  Penggunaan teknologi mobile saat ini sangat ma...          RPL  \n",
       "3  Sumber daya manusia mutlak dibutuhkan untuk ke...          CAI  \n",
       "4  Di Indonesia masalah perkembangan gizi adalah ...          CAI  "
      ]
     },
     "execution_count": 4,
     "metadata": {},
     "output_type": "execute_result"
    }
   ],
   "source": [
    "df.head()"
   ]
  },
  {
   "cell_type": "markdown",
   "metadata": {
    "_uuid": "ece312ea148c498c5584e83f6a36fce2dc236198"
   },
   "source": [
    "Dalam program ini hanya menggunakan data pada kolom 'judul'. Untuk mengambil kolom 'judul' saja dapat dilakukan dengan inisialisasi ulang df dengan df[['judul']] "
   ]
  },
  {
   "cell_type": "code",
   "execution_count": 5,
   "metadata": {
    "_uuid": "2a6df530624e3b9c3cfb43659ba9c0f67e2aa1d4",
    "id": "wiuusKeEIr_o"
   },
   "outputs": [
    {
     "data": {
      "text/html": [
       "<div>\n",
       "<style scoped>\n",
       "    .dataframe tbody tr th:only-of-type {\n",
       "        vertical-align: middle;\n",
       "    }\n",
       "\n",
       "    .dataframe tbody tr th {\n",
       "        vertical-align: top;\n",
       "    }\n",
       "\n",
       "    .dataframe thead th {\n",
       "        text-align: right;\n",
       "    }\n",
       "</style>\n",
       "<table border=\"1\" class=\"dataframe\">\n",
       "  <thead>\n",
       "    <tr style=\"text-align: right;\">\n",
       "      <th></th>\n",
       "      <th>judul</th>\n",
       "    </tr>\n",
       "  </thead>\n",
       "  <tbody>\n",
       "    <tr>\n",
       "      <th>0</th>\n",
       "      <td>Gerak Pekerja Pada Game Real Time Strategy Men...</td>\n",
       "    </tr>\n",
       "    <tr>\n",
       "      <th>1</th>\n",
       "      <td>PEMANFAATAN TOGAF ADM UNTUK PERANCANGAN SISTEM...</td>\n",
       "    </tr>\n",
       "    <tr>\n",
       "      <th>2</th>\n",
       "      <td>RANCANG BANGUN MANAJEMEN PEMBELAJARAN DAN TES ...</td>\n",
       "    </tr>\n",
       "    <tr>\n",
       "      <th>3</th>\n",
       "      <td>SISTEM PENDUKUNG KEPUTUSAN PEMILIHAN KARYAWAN ...</td>\n",
       "    </tr>\n",
       "    <tr>\n",
       "      <th>4</th>\n",
       "      <td>SISTEM PENENTUAN STATUS GIZI PASIEN RAWAT INAP...</td>\n",
       "    </tr>\n",
       "  </tbody>\n",
       "</table>\n",
       "</div>"
      ],
      "text/plain": [
       "                                               judul\n",
       "0  Gerak Pekerja Pada Game Real Time Strategy Men...\n",
       "1  PEMANFAATAN TOGAF ADM UNTUK PERANCANGAN SISTEM...\n",
       "2  RANCANG BANGUN MANAJEMEN PEMBELAJARAN DAN TES ...\n",
       "3  SISTEM PENDUKUNG KEPUTUSAN PEMILIHAN KARYAWAN ...\n",
       "4  SISTEM PENENTUAN STATUS GIZI PASIEN RAWAT INAP..."
      ]
     },
     "execution_count": 5,
     "metadata": {},
     "output_type": "execute_result"
    }
   ],
   "source": [
    "df = df[['judul']]\n",
    "df.head()"
   ]
  },
  {
   "cell_type": "markdown",
   "metadata": {
    "_uuid": "2043c3fc7cb55f29282da53bf8ce8315aec19556"
   },
   "source": [
    "## Pre-processing Data"
   ]
  },
  {
   "cell_type": "markdown",
   "metadata": {
    "_uuid": "dbd9e74a45cef82d83251327066f919c2a7ee08b"
   },
   "source": [
    "Terdapat beberapa tahapan dalam melakukan Pre-processing data, diantaranya *case folding* (Mengubah teks menjadi *lower case*), menghapus angka dan tanda baca, menghapus white space dan *stopword removal*. Semua tahapan *pre-processing* tersebut saya masukkan ke dalam fungsi clean_text, kemudian saya aplikasikan pada data judul pada dataframe dengan method **.apply(clean_text)**. \n",
    "\n",
    "Untuk menghapus stopword saya menggunakan library **PySastrawi**, karena **PySastrawi** memiliki list stopword bahasa indonesia yang lebih lengkap daripada library **nltk**.\n",
    "\n",
    "Pada Library **PySastrawi** penghapusan stopword dilakukan dengan membuata objek StopWordRemoverFactory, kemudian buat objek stopword remover dengan method create_stop_word_remover. Objek stopword remover memiliki method remove yang dapat digunakan untuk menghapus stopword dalam sebuah kalimat dengan memasukkan string ke dalam parameter method remove.  "
   ]
  },
  {
   "cell_type": "code",
   "execution_count": 6,
   "metadata": {},
   "outputs": [],
   "source": [
    "factory = StopWordRemoverFactory()\n",
    "stopword = factory.create_stop_word_remover()"
   ]
  },
  {
   "cell_type": "code",
   "execution_count": 7,
   "metadata": {
    "_uuid": "c01abf16fc6c3b72873a40246d88f4f2d84af6a6",
    "id": "10MF-YmnI7vp"
   },
   "outputs": [],
   "source": [
    "def clean_text(text):\n",
    "  # Mengubah ke lowercase\n",
    "  cleaned_text = text.lower()\n",
    "  # Menghilangkan angka\n",
    "  cleaned_text = re.sub(r\"\\d+\", \"\", cleaned_text)\n",
    "  # menghilangkan white space\n",
    "  cleaned_text = cleaned_text.strip()\n",
    "  # menghilangkan tanda baca\n",
    "  cleaned_text = cleaned_text.translate(str.maketrans(\"\",\"\",string.punctuation))\n",
    "  # menghilangkan stopword\n",
    "  cleaned_text = stopword.remove(cleaned_text)\n",
    "  return cleaned_text\n",
    "  "
   ]
  },
  {
   "cell_type": "code",
   "execution_count": 8,
   "metadata": {
    "_uuid": "0249f1e9dc0d448aa55778d88b17380cbb099b27",
    "id": "J9cX-1YxSisp"
   },
   "outputs": [],
   "source": [
    "df['cleaned_judul'] = df['judul'].apply(clean_text)"
   ]
  },
  {
   "cell_type": "markdown",
   "metadata": {},
   "source": [
    "### Hasil pre-processing"
   ]
  },
  {
   "cell_type": "code",
   "execution_count": 9,
   "metadata": {
    "_uuid": "c81efcbf76b11b4a08c18e4ce6147fa35bfd2348",
    "id": "Qw6e2o8SSzi2",
    "outputId": "094e30b3-de43-476c-c27c-8c992216c3f2"
   },
   "outputs": [
    {
     "data": {
      "text/html": [
       "<div>\n",
       "<style scoped>\n",
       "    .dataframe tbody tr th:only-of-type {\n",
       "        vertical-align: middle;\n",
       "    }\n",
       "\n",
       "    .dataframe tbody tr th {\n",
       "        vertical-align: top;\n",
       "    }\n",
       "\n",
       "    .dataframe thead th {\n",
       "        text-align: right;\n",
       "    }\n",
       "</style>\n",
       "<table border=\"1\" class=\"dataframe\">\n",
       "  <thead>\n",
       "    <tr style=\"text-align: right;\">\n",
       "      <th></th>\n",
       "      <th>judul</th>\n",
       "      <th>cleaned_judul</th>\n",
       "    </tr>\n",
       "  </thead>\n",
       "  <tbody>\n",
       "    <tr>\n",
       "      <th>0</th>\n",
       "      <td>Gerak Pekerja Pada Game Real Time Strategy Men...</td>\n",
       "      <td>gerak pekerja game real time strategy finite s...</td>\n",
       "    </tr>\n",
       "    <tr>\n",
       "      <th>1</th>\n",
       "      <td>PEMANFAATAN TOGAF ADM UNTUK PERANCANGAN SISTEM...</td>\n",
       "      <td>pemanfaatan togaf adm perancangan sistem infor...</td>\n",
       "    </tr>\n",
       "    <tr>\n",
       "      <th>2</th>\n",
       "      <td>RANCANG BANGUN MANAJEMEN PEMBELAJARAN DAN TES ...</td>\n",
       "      <td>rancang bangun manajemen pembelajaran tes toef...</td>\n",
       "    </tr>\n",
       "    <tr>\n",
       "      <th>3</th>\n",
       "      <td>SISTEM PENDUKUNG KEPUTUSAN PEMILIHAN KARYAWAN ...</td>\n",
       "      <td>sistem pendukung keputusan pemilihan karyawan ...</td>\n",
       "    </tr>\n",
       "    <tr>\n",
       "      <th>4</th>\n",
       "      <td>SISTEM PENENTUAN STATUS GIZI PASIEN RAWAT INAP...</td>\n",
       "      <td>sistem penentuan status gizi pasien rawat inap...</td>\n",
       "    </tr>\n",
       "  </tbody>\n",
       "</table>\n",
       "</div>"
      ],
      "text/plain": [
       "                                               judul  \\\n",
       "0  Gerak Pekerja Pada Game Real Time Strategy Men...   \n",
       "1  PEMANFAATAN TOGAF ADM UNTUK PERANCANGAN SISTEM...   \n",
       "2  RANCANG BANGUN MANAJEMEN PEMBELAJARAN DAN TES ...   \n",
       "3  SISTEM PENDUKUNG KEPUTUSAN PEMILIHAN KARYAWAN ...   \n",
       "4  SISTEM PENENTUAN STATUS GIZI PASIEN RAWAT INAP...   \n",
       "\n",
       "                                       cleaned_judul  \n",
       "0  gerak pekerja game real time strategy finite s...  \n",
       "1  pemanfaatan togaf adm perancangan sistem infor...  \n",
       "2  rancang bangun manajemen pembelajaran tes toef...  \n",
       "3  sistem pendukung keputusan pemilihan karyawan ...  \n",
       "4  sistem penentuan status gizi pasien rawat inap...  "
      ]
     },
     "execution_count": 9,
     "metadata": {},
     "output_type": "execute_result"
    }
   ],
   "source": [
    "df.head()"
   ]
  },
  {
   "cell_type": "markdown",
   "metadata": {},
   "source": [
    "### Mengganti Column __cleaned_judul__ dengan __judul__ "
   ]
  },
  {
   "cell_type": "code",
   "execution_count": 10,
   "metadata": {
    "_uuid": "64cc5de96668ec6e6f37cefb31c349f35ff81771",
    "id": "PTkgClkxV7MP"
   },
   "outputs": [],
   "source": [
    "df.drop(['judul'],axis=1,inplace=True)"
   ]
  },
  {
   "cell_type": "code",
   "execution_count": 11,
   "metadata": {},
   "outputs": [],
   "source": [
    "df.columns = ['judul']"
   ]
  },
  {
   "cell_type": "code",
   "execution_count": 12,
   "metadata": {
    "_uuid": "dc01093ea4f6bd35e492e5136bec2ef90f8a1bf5",
    "id": "PHPX62iRV_ux",
    "outputId": "729f2f07-09c5-477b-fcfd-72a166982d35"
   },
   "outputs": [
    {
     "data": {
      "text/html": [
       "<div>\n",
       "<style scoped>\n",
       "    .dataframe tbody tr th:only-of-type {\n",
       "        vertical-align: middle;\n",
       "    }\n",
       "\n",
       "    .dataframe tbody tr th {\n",
       "        vertical-align: top;\n",
       "    }\n",
       "\n",
       "    .dataframe thead th {\n",
       "        text-align: right;\n",
       "    }\n",
       "</style>\n",
       "<table border=\"1\" class=\"dataframe\">\n",
       "  <thead>\n",
       "    <tr style=\"text-align: right;\">\n",
       "      <th></th>\n",
       "      <th>judul</th>\n",
       "    </tr>\n",
       "  </thead>\n",
       "  <tbody>\n",
       "    <tr>\n",
       "      <th>0</th>\n",
       "      <td>gerak pekerja game real time strategy finite s...</td>\n",
       "    </tr>\n",
       "    <tr>\n",
       "      <th>1</th>\n",
       "      <td>pemanfaatan togaf adm perancangan sistem infor...</td>\n",
       "    </tr>\n",
       "    <tr>\n",
       "      <th>2</th>\n",
       "      <td>rancang bangun manajemen pembelajaran tes toef...</td>\n",
       "    </tr>\n",
       "    <tr>\n",
       "      <th>3</th>\n",
       "      <td>sistem pendukung keputusan pemilihan karyawan ...</td>\n",
       "    </tr>\n",
       "    <tr>\n",
       "      <th>4</th>\n",
       "      <td>sistem penentuan status gizi pasien rawat inap...</td>\n",
       "    </tr>\n",
       "  </tbody>\n",
       "</table>\n",
       "</div>"
      ],
      "text/plain": [
       "                                               judul\n",
       "0  gerak pekerja game real time strategy finite s...\n",
       "1  pemanfaatan togaf adm perancangan sistem infor...\n",
       "2  rancang bangun manajemen pembelajaran tes toef...\n",
       "3  sistem pendukung keputusan pemilihan karyawan ...\n",
       "4  sistem penentuan status gizi pasien rawat inap..."
      ]
     },
     "execution_count": 12,
     "metadata": {},
     "output_type": "execute_result"
    }
   ],
   "source": [
    "df.head()"
   ]
  },
  {
   "cell_type": "markdown",
   "metadata": {},
   "source": [
    "### Contoh judul yang telah di lakukan *pre-processing*"
   ]
  },
  {
   "cell_type": "code",
   "execution_count": 13,
   "metadata": {
    "_uuid": "219d5fa37fbffff1c1acdeb46722a40cee1842a2",
    "id": "zlVvCr7qWkqA",
    "outputId": "9eb1561b-ef0b-4a00-bea3-5122c407bc9e"
   },
   "outputs": [
    {
     "data": {
      "text/plain": [
       "'gerak pekerja game real time strategy finite state machine'"
      ]
     },
     "execution_count": 13,
     "metadata": {},
     "output_type": "execute_result"
    }
   ],
   "source": [
    "df['judul'][0]"
   ]
  },
  {
   "cell_type": "markdown",
   "metadata": {
    "_uuid": "d36edc03b2cc88ef61651cd6c9deb470817e64df",
    "id": "yQZpp5YMXPkb"
   },
   "source": [
    "## Ekstraksi fitur dan membuat Document Term Matrix (DTM)\n",
    "\n",
    "Perhitungan Latent Semantic Analysis(LSA) hanya menggunakan data TF-IDF. Maka tidak perlu menghitung nilai TF. Meghitung nilai TF-IDF dapat dilakukan dengan membuat objek dari kelas TfidfVectorizer yang disediakan library scikit-learn.\n",
    "\n",
    "Rumus Term Frequency:\n",
    "\n",
    "$$\n",
    "tf(t,d) = { f_{ t,d } \\over \\sum_{t' \\in d } f_{t,d}}\n",
    "$$\n",
    "\n",
    "$ f_{ t,d } \\quad\\quad\\quad\\quad$: Jumlah kata t muncul dalam dokumen\n",
    "\n",
    "$ \\sum_{t' \\in d } f_{t,d} \\quad\\quad$: Jumlah seluruh kata yang ada dalam dokumen\n",
    "\n",
    "Rumus Inverse Document Frequency:\n",
    "\n",
    "$$\n",
    "idf( t,D ) = log { N \\over { | \\{ d \\in D:t \\in d \\} | } }\n",
    "$$\n",
    "\n",
    "$ N \\quad\\quad\\quad\\quad\\quad$ : Jumlah seluruh dokumen\n",
    "\n",
    "$ | \\{ d \\in D:t \\in d \\} | $ : Jumlah dokumen yang mengandung kata $ t $\n",
    "\n",
    "Rumus TFIDF:\n",
    "\n",
    "$$\n",
    "tfidf( t,d,D ) = tf( t,d ) \\times idf( t,D )\n",
    "$$"
   ]
  },
  {
   "cell_type": "code",
   "execution_count": 14,
   "metadata": {
    "_uuid": "d3998f5b7d7eaed5d18d08830d2ba9ba8dd7fcd6",
    "id": "UUxESGqhXX07"
   },
   "outputs": [],
   "source": [
    "vect = TfidfVectorizer()"
   ]
  },
  {
   "cell_type": "markdown",
   "metadata": {},
   "source": [
    "Setelah objek **TfidfVectorizer** dibuat gunakan method **fit_transform** dengan argumen data yang akan dicari nilai **TF-IDF**-nya"
   ]
  },
  {
   "cell_type": "code",
   "execution_count": 15,
   "metadata": {
    "_uuid": "00cdefa5281e43ed4cd28af256490cf3cf4dbaf2",
    "id": "z0CezNO4aUoh"
   },
   "outputs": [],
   "source": [
    "vect_text = vect.fit_transform(df['judul'])"
   ]
  },
  {
   "cell_type": "code",
   "execution_count": 16,
   "metadata": {
    "_uuid": "1fda68dd69c429fff879d660aa0ec7dccec18a64"
   },
   "outputs": [
    {
     "name": "stdout",
     "output_type": "stream",
     "text": [
      "Jumlah atribut dalam Document-Term Matrix : 358\n"
     ]
    }
   ],
   "source": [
    "attr_count = vect.get_feature_names_out().shape[0]\n",
    "print(f'Jumlah atribut dalam Document-Term Matrix : {attr_count}')"
   ]
  },
  {
   "cell_type": "markdown",
   "metadata": {
    "_uuid": "bb0975cb5ba0e82f9e14eba53bd466c26b892a7e"
   },
   "source": [
    "#### Menyimpan hasil TF_IDF ke DataFrame"
   ]
  },
  {
   "cell_type": "markdown",
   "metadata": {},
   "source": [
    "Hasil TF-IDF perlu diubah terlebih dahulu menjadi array agar dapat digunakan sebagai data. Kemudian untuk parameter kolom-nya dapat didapatkan menggunakan method get_feature_names_out pada objek TfidfVectorizer."
   ]
  },
  {
   "cell_type": "code",
   "execution_count": 17,
   "metadata": {
    "_uuid": "a75bc1a06e66fa4c8615822f703487424761570b",
    "id": "5G-Zt5lUsUjx",
    "outputId": "c2e32ea6-5c47-4668-df93-c7ff8f54fb31"
   },
   "outputs": [
    {
     "data": {
      "text/html": [
       "<div>\n",
       "<style scoped>\n",
       "    .dataframe tbody tr th:only-of-type {\n",
       "        vertical-align: middle;\n",
       "    }\n",
       "\n",
       "    .dataframe tbody tr th {\n",
       "        vertical-align: top;\n",
       "    }\n",
       "\n",
       "    .dataframe thead th {\n",
       "        text-align: right;\n",
       "    }\n",
       "</style>\n",
       "<table border=\"1\" class=\"dataframe\">\n",
       "  <thead>\n",
       "    <tr style=\"text-align: right;\">\n",
       "      <th></th>\n",
       "      <th>acute</th>\n",
       "      <th>addie</th>\n",
       "      <th>additive</th>\n",
       "      <th>additiveweighting</th>\n",
       "      <th>adm</th>\n",
       "      <th>...</th>\n",
       "      <th>wafa</th>\n",
       "      <th>wajah</th>\n",
       "      <th>web</th>\n",
       "      <th>weight</th>\n",
       "      <th>weighting</th>\n",
       "    </tr>\n",
       "  </thead>\n",
       "  <tbody>\n",
       "    <tr>\n",
       "      <th>0</th>\n",
       "      <td>0.0</td>\n",
       "      <td>0.0</td>\n",
       "      <td>0.0</td>\n",
       "      <td>0.0</td>\n",
       "      <td>0.000000</td>\n",
       "      <td>...</td>\n",
       "      <td>0.0</td>\n",
       "      <td>0.0</td>\n",
       "      <td>0.0</td>\n",
       "      <td>0.0</td>\n",
       "      <td>0.0</td>\n",
       "    </tr>\n",
       "    <tr>\n",
       "      <th>1</th>\n",
       "      <td>0.0</td>\n",
       "      <td>0.0</td>\n",
       "      <td>0.0</td>\n",
       "      <td>0.0</td>\n",
       "      <td>0.300817</td>\n",
       "      <td>...</td>\n",
       "      <td>0.0</td>\n",
       "      <td>0.0</td>\n",
       "      <td>0.0</td>\n",
       "      <td>0.0</td>\n",
       "      <td>0.0</td>\n",
       "    </tr>\n",
       "    <tr>\n",
       "      <th>2</th>\n",
       "      <td>0.0</td>\n",
       "      <td>0.0</td>\n",
       "      <td>0.0</td>\n",
       "      <td>0.0</td>\n",
       "      <td>0.000000</td>\n",
       "      <td>...</td>\n",
       "      <td>0.0</td>\n",
       "      <td>0.0</td>\n",
       "      <td>0.0</td>\n",
       "      <td>0.0</td>\n",
       "      <td>0.0</td>\n",
       "    </tr>\n",
       "    <tr>\n",
       "      <th>3</th>\n",
       "      <td>0.0</td>\n",
       "      <td>0.0</td>\n",
       "      <td>0.0</td>\n",
       "      <td>0.0</td>\n",
       "      <td>0.000000</td>\n",
       "      <td>...</td>\n",
       "      <td>0.0</td>\n",
       "      <td>0.0</td>\n",
       "      <td>0.0</td>\n",
       "      <td>0.0</td>\n",
       "      <td>0.0</td>\n",
       "    </tr>\n",
       "    <tr>\n",
       "      <th>4</th>\n",
       "      <td>0.0</td>\n",
       "      <td>0.0</td>\n",
       "      <td>0.0</td>\n",
       "      <td>0.0</td>\n",
       "      <td>0.000000</td>\n",
       "      <td>...</td>\n",
       "      <td>0.0</td>\n",
       "      <td>0.0</td>\n",
       "      <td>0.0</td>\n",
       "      <td>0.0</td>\n",
       "      <td>0.0</td>\n",
       "    </tr>\n",
       "  </tbody>\n",
       "</table>\n",
       "<p>5 rows × 358 columns</p>\n",
       "</div>"
      ],
      "text/plain": [
       "   acute  addie  additive  additiveweighting       adm  ...  wafa  wajah  web  \\\n",
       "0    0.0    0.0       0.0                0.0  0.000000  ...   0.0    0.0  0.0   \n",
       "1    0.0    0.0       0.0                0.0  0.300817  ...   0.0    0.0  0.0   \n",
       "2    0.0    0.0       0.0                0.0  0.000000  ...   0.0    0.0  0.0   \n",
       "3    0.0    0.0       0.0                0.0  0.000000  ...   0.0    0.0  0.0   \n",
       "4    0.0    0.0       0.0                0.0  0.000000  ...   0.0    0.0  0.0   \n",
       "\n",
       "   weight  weighting  \n",
       "0     0.0        0.0  \n",
       "1     0.0        0.0  \n",
       "2     0.0        0.0  \n",
       "3     0.0        0.0  \n",
       "4     0.0        0.0  \n",
       "\n",
       "[5 rows x 358 columns]"
      ]
     },
     "execution_count": 17,
     "metadata": {},
     "output_type": "execute_result"
    }
   ],
   "source": [
    "tfidf = pd.DataFrame(\n",
    "    data=vect_text.toarray(),\n",
    "    columns=vect.get_feature_names_out()\n",
    ")\n",
    "tfidf.head()"
   ]
  },
  {
   "cell_type": "markdown",
   "metadata": {},
   "source": [
    "Mencari nilai **idf** dengan mengakses atribut **idf_** pada objek **tfidfVectorizer**. Atribut **idf_** hanya terdefinisi apabila parameter **use_idf** saat instansiasi objekk tfidfVectorizer bernilai **True**. Namun, **use_idf** sudah bernilai **True** secara default, sehingga kita dapat perlu menentukannya secara manual. "
   ]
  },
  {
   "cell_type": "code",
   "execution_count": 18,
   "metadata": {
    "_uuid": "fdf6846bf90d386f8361467a420af9b40b689521",
    "id": "zbF-rC1va7tP"
   },
   "outputs": [],
   "source": [
    "idf = vect.idf_"
   ]
  },
  {
   "cell_type": "code",
   "execution_count": 19,
   "metadata": {
    "_uuid": "b5dc9f0d99d949a36cdb00be41b5ba4a424f093c",
    "id": "a0wQG_tZm53A",
    "outputId": "d8b5ee22-9920-45e4-bd3e-548217842e68"
   },
   "outputs": [],
   "source": [
    "dd= dict(zip(vect.get_feature_names_out(), idf))\n",
    "\n",
    "l = sorted(dd, key = dd.get)"
   ]
  },
  {
   "cell_type": "markdown",
   "metadata": {},
   "source": [
    "Kita dapat melihat kata yang paling sering dan paling jarang muncul pada judul tugas akhir berdasarkan nilai idf. Kata yang memiliki nilai lebih kecil, adalah kata yang paling sering muncul dalam judul"
   ]
  },
  {
   "cell_type": "code",
   "execution_count": 20,
   "metadata": {},
   "outputs": [
    {
     "name": "stdout",
     "output_type": "stream",
     "text": [
      "5 Kata paling sering muncul:\n",
      "1. sistem\t(Nilai idf: 1.709676482511156)\n",
      "2. metode\t(Nilai idf: 1.9753796482441615)\n",
      "3. berbasis\t(Nilai idf: 2.11514159061932)\n",
      "4. studi\t(Nilai idf: 2.220502106277147)\n",
      "5. rancang\t(Nilai idf: 2.3382851419335298)\n"
     ]
    }
   ],
   "source": [
    "print(\"5 Kata paling sering muncul:\")\n",
    "for i, word in enumerate(l[:5]):\n",
    "    print(f\"{i+1}. {word}\\t(Nilai idf: {dd[word]})\")"
   ]
  },
  {
   "cell_type": "code",
   "execution_count": 21,
   "metadata": {},
   "outputs": [
    {
     "name": "stdout",
     "output_type": "stream",
     "text": [
      "5 Kata paling jarang muncul:\n",
      "1. weighting\t(Nilai idf: 4.417726683613366)\n",
      "2. weight\t(Nilai idf: 4.417726683613366)\n",
      "3. wajah\t(Nilai idf: 4.417726683613366)\n",
      "4. wafa\t(Nilai idf: 4.417726683613366)\n"
     ]
    }
   ],
   "source": [
    "print(\"5 Kata paling jarang muncul:\")\n",
    "for i, word in enumerate(l[:-5:-1]):\n",
    "    print(f\"{i+1}. {word}\\t(Nilai idf: {dd[word]})\")"
   ]
  },
  {
   "cell_type": "markdown",
   "metadata": {
    "_uuid": "3b96bb00ba3313b3fcab6735e73c56e89fc74365"
   },
   "source": [
    "## TOPIC MODELLING"
   ]
  },
  {
   "cell_type": "markdown",
   "metadata": {
    "_uuid": "0bad03b7f6b2b69cd4554ec9e7681b430dfe4e10"
   },
   "source": [
    "### Latent Semantic Analysis (LSA)"
   ]
  },
  {
   "cell_type": "markdown",
   "metadata": {},
   "source": [
    "**Latent Semantic Analysis (LSA)** adalah metode yang memanfaatkan model statistik matematis untuk menganalisa struktur semantik suatu teks. LSA digunakan untuk menilai judul tugas akhir dengan mengkonversikan judul tugas akhir menjadi matriks-matriks yang diberi nilai pada masing-masing term untuk dicari kesamaan dengan term. Langkah-langkah LSA dalam penilaian judul tugas akhir adalah sebagai berikut:\n",
    "\n",
    "1. Text Processing\n",
    "2. Document-Term Matrix\n",
    "3. Singular Value Decomposition (SVD)\n",
    "4. Cosine Similarity Measurement"
   ]
  },
  {
   "cell_type": "markdown",
   "metadata": {},
   "source": [
    "#### Singular Value Decomposition(SVD)"
   ]
  },
  {
   "cell_type": "markdown",
   "metadata": {},
   "source": [
    "**Singular Value Decomposition (SVD)** adalah teknik untuk mereduksi dimensi yang bermanfaat untuk memperkecil nilai kompleksitas dalam pemrosesan Document-Term Matrix. SVD merupakan teorema aljabar linier yang menyebutkan bahwa persegi panjang dari Document-Term Matrix dapat dipecah/didekomposisikan menjadi tiga matriks, yaitu Matriks ortogonal U, Matriks diagonal S, Transpose dari matriks ortogonal V."
   ]
  },
  {
   "cell_type": "markdown",
   "metadata": {
    "_uuid": "c0d4b13524635aefa5e44f780efeec9b55ca6e58"
   },
   "source": [
    "$$\n",
    "A_{mn} = U_{mm} \\times S_{mn} \\times V^{T}_{nn}\n",
    "$$\n",
    "\n",
    "$ A_{mn} $ : matriks awal\n",
    "\n",
    "$ U_{mm} $ : matriks ortogonal\n",
    "\n",
    "$ S_{mn} $ : matriks diagonal\n",
    "\n",
    "$ V^{T}_{nn} $ : Transpose matriks ortogonal V"
   ]
  },
  {
   "cell_type": "markdown",
   "metadata": {},
   "source": [
    "Setiap baris dari matriks $ U $ (Document-Term Matrix) adalah bentuk vektor dari dokumen. Panjang dari vektor-vektor tersebut adalah jumlah topik. Sedangkan matriks $ V $ (Term-Topic Matrix) berisi kata-kata dari data.\n",
    "\n",
    "SVD akan memberikan vektor untuk setiap dokumen dan kata dalam data. Kita dapat menggunakan vektor-vektor tersebut untuk mencari kata dan dokumen serupa menggunakan metode **Cosine Similarity**.\n",
    "\n",
    "Dalam mengimplementasikan LSA, dapat menggunakan fungsi TruncatedSVD. parameter n_components digunakan untuk menentukan jumlah topik yang akan diekstrak.\n",
    "\n"
   ]
  },
  {
   "cell_type": "code",
   "execution_count": 22,
   "metadata": {
    "_uuid": "ac483df5e69eeb2b4b71af956c6987896eda7eb6",
    "id": "9xuGfFdtqTp5"
   },
   "outputs": [],
   "source": [
    "lsa_model = TruncatedSVD(n_components=2, algorithm='randomized', n_iter=10, random_state=42)\n",
    "\n",
    "lsa_top=lsa_model.fit_transform(vect_text)"
   ]
  },
  {
   "cell_type": "code",
   "execution_count": 23,
   "metadata": {
    "_uuid": "2a259e5f3b8c11118368439eea8de0faa8b7a1c2",
    "id": "d4dvIGIGxtAI",
    "outputId": "58590025-b601-4160-956f-49247c3e064e"
   },
   "outputs": [
    {
     "name": "stdout",
     "output_type": "stream",
     "text": [
      "Document 0 :\n",
      "Topic 0 : 1.3810694835999033\n",
      "Topic 1 : -3.384805564095132\n"
     ]
    }
   ],
   "source": [
    "l=lsa_top[0]\n",
    "print(\"Document 0 :\")\n",
    "for i,topic in enumerate(l):\n",
    "  print(f\"Topic {i} : {topic*100}\")"
   ]
  },
  {
   "cell_type": "code",
   "execution_count": 24,
   "metadata": {
    "_uuid": "61bb8ff8b4b6cf0cd2fcde7890f3a3ebb8980452",
    "id": "AI2kOuwitOGp",
    "outputId": "093e45e0-2141-4504-b0fe-93e7656731a5"
   },
   "outputs": [
    {
     "name": "stdout",
     "output_type": "stream",
     "text": [
      "Jumlah topik\t: 2\n",
      "Jumlah kata\t: 358\n"
     ]
    }
   ],
   "source": [
    "(count_topic, count_word) = lsa_model.components_.shape\n",
    "print(f\"Jumlah topik\\t: {count_topic}\")\n",
    "print(f\"Jumlah kata\\t: {count_word}\")"
   ]
  },
  {
   "cell_type": "markdown",
   "metadata": {
    "_uuid": "a289f6e017d0c573d20ed386582df71437fab5cc"
   },
   "source": [
    "Sekarang kita dapat mendapatkan daftar kata yang penting untuk setiap topik. Jumlah kata yang akan ditampilkan hanya 10. Untuk melakukan sorting dapat menggunakan fungsi sorted, lalu slicing dengan menambahkan \\[:10\\] agar data yang diambil hanya 10 data pertama. Slicing dilakukan berdasarkan nilai pada indeks 1 karena nilai dari nilai lsa."
   ]
  },
  {
   "cell_type": "code",
   "execution_count": 25,
   "metadata": {
    "_uuid": "c9860197f6d11e5583629cca322e19a93d4c0350",
    "id": "GMMmSTbQqfdz",
    "outputId": "4a5765e5-ffc9-410f-ce48-1b422d348ee3"
   },
   "outputs": [
    {
     "name": "stdout",
     "output_type": "stream",
     "text": [
      "Topic 0: \n",
      "studi sistem bangun rancang informasi madura berbasis trunojoyo universitas pembelajaran\n",
      "\n",
      "Topic 1: \n",
      "keputusan pendukung metode sistem topsis penentuan pemilihan saw penilaian unggulan\n",
      "\n"
     ]
    }
   ],
   "source": [
    "# most important words for each topic\n",
    "vocab = vect.get_feature_names_out()\n",
    "\n",
    "for i, comp in enumerate(lsa_model.components_):\n",
    "    vocab_comp = zip(vocab, comp)\n",
    "\n",
    "    sorted_words = sorted(vocab_comp, key= lambda x:x[1], reverse=True)[:10]\n",
    "    print(f\"Topic {i}: \")\n",
    "    print(\" \".join([ item[0] for item in sorted_words ]))\n",
    "    print(\"\")\n",
    "         "
   ]
  },
  {
   "cell_type": "markdown",
   "metadata": {
    "_uuid": "2898911f7af52671923cf6bbc8cab6bc7871aa59",
    "id": "gmMeb4METhm2"
   },
   "source": [
    "### Latent Dirichlet Allocation (LDA)  "
   ]
  },
  {
   "cell_type": "markdown",
   "metadata": {},
   "source": [
    "**Latent Dirichlet Allocation (LDA)** adalah model generatif statistik yang dari koleksi data diskrit seperti kumpulan dokumen (*corpus*).\n",
    "\n",
    "Awal dibuatnya LDA yaitu bahwa dokumen terdiri dari beberapa topik.  Proses mengasumsikan bahwa dokumen berasal dari topik tertentu melalui *imaginary random process*. Setiap topik dibentuk oleh distribusi kata-kata.\n",
    "\n",
    "Topik yang mendeskripsikan kumpulan dari suatu dokumen dapat ditentukan setalah topik LDA dibuat. Pada sisi sebelah kanan gambar diatas menunjukkan daftar topik serta 15 kata dengan distribusi tertinggi untuk masing-masing topik tersebut. \n",
    "\n",
    "Rumus Dirichlet Distribution:\n",
    "$$\n",
    "f\\left(x_{1}, \\ldots, x_{K} ; \\alpha_{1}, \\ldots, \\alpha_{K}\\right)=\\frac{\\Gamma\\left(\\sum_{i=1}^{K} \\alpha_{i}\\right)}{\\prod_{i=1}^{K} \\Gamma\\left(\\alpha_{i}\\right)} \\prod_{i=1}^{K} x_{i}^{\\alpha_{i}-1}\n",
    "$$"
   ]
  },
  {
   "cell_type": "markdown",
   "metadata": {},
   "source": [
    "Untuk melakukan perhitungan LDA dengan library sklearn, dapat dilakukan dengan menggunakan kelas *LatentDirichletAllocation* yang ada pada modul *sklearn.decomposition*. Parameter yang digunakan antara lain:\n",
    "- n_components = 2\\\n",
    "    Mengatur jumlah topik menjadi 2\n",
    "\n",
    "- learning_method ='online'\\\n",
    "    Mengatur agar metode pembelajaran secara online. sehingga akan lebih cepat ketika menggunakan data dalam jumlah besar.\n",
    "     \n",
    "- random_state = 42\\\n",
    "    Untuk mendapatkan hasil pengacakan yang sama selama 42 kali kode dijalankan  \n",
    "\n",
    "- max_iter = 1 \\\n",
    "    Untuk mengatur jumlah iterasi training data (epoch) menjadi 1 kali saja."
   ]
  },
  {
   "cell_type": "code",
   "execution_count": 26,
   "metadata": {
    "_uuid": "b21a29802cac8f469c65df49ba0ef04f592f3202",
    "id": "yPJFHVxxTiwh"
   },
   "outputs": [],
   "source": [
    "lda_model = LatentDirichletAllocation(n_components=2,learning_method='online',random_state=42,max_iter=1) "
   ]
  },
  {
   "cell_type": "code",
   "execution_count": 27,
   "metadata": {
    "_uuid": "8c0169b02a356e8cf8583218437d23f549c1e3da",
    "id": "aeUPTUUIazvB"
   },
   "outputs": [],
   "source": [
    "lda_top = lda_model.fit_transform(vect_text)"
   ]
  },
  {
   "cell_type": "code",
   "execution_count": 1,
   "metadata": {
    "_uuid": "77425315af5c000fa30caefd6dcebb70c2970cfa",
    "id": "h8LzsFixdkBt",
    "outputId": "4ffc31da-a283-4cc6-a7e8-67c7ca8e5224"
   },
   "outputs": [
    {
     "ename": "NameError",
     "evalue": "name 'lda_top' is not defined",
     "output_type": "error",
     "traceback": [
      "\u001b[1;31m---------------------------------------------------------------------------\u001b[0m",
      "\u001b[1;31mNameError\u001b[0m                                 Traceback (most recent call last)",
      "\u001b[1;32mc:\\Users\\Egi Putra Ragil\\Desktop\\topic-modelling-sklearn\\contents\\topic-modelling.ipynb Cell 3'\u001b[0m in \u001b[0;36m<cell line: 1>\u001b[1;34m()\u001b[0m\n\u001b[1;32m----> <a href='vscode-notebook-cell:/c%3A/Users/Egi%20Putra%20Ragil/Desktop/topic-modelling-sklearn/contents/topic-modelling.ipynb#ch0000002?line=0'>1</a>\u001b[0m (count_doc_lda, count_topic_lda) \u001b[39m=\u001b[39m lda_top\u001b[39m.\u001b[39mshape\n\u001b[0;32m      <a href='vscode-notebook-cell:/c%3A/Users/Egi%20Putra%20Ragil/Desktop/topic-modelling-sklearn/contents/topic-modelling.ipynb#ch0000002?line=1'>2</a>\u001b[0m \u001b[39mprint\u001b[39m(\u001b[39mf\u001b[39m\u001b[39m\"\u001b[39m\u001b[39mJumlah dokumen\u001b[39m\u001b[39m\\t\u001b[39;00m\u001b[39m: \u001b[39m\u001b[39m{\u001b[39;00mcount_doc_lda\u001b[39m}\u001b[39;00m\u001b[39m\"\u001b[39m)\n\u001b[0;32m      <a href='vscode-notebook-cell:/c%3A/Users/Egi%20Putra%20Ragil/Desktop/topic-modelling-sklearn/contents/topic-modelling.ipynb#ch0000002?line=2'>3</a>\u001b[0m \u001b[39mprint\u001b[39m(\u001b[39mf\u001b[39m\u001b[39m\"\u001b[39m\u001b[39mJumlah topik\u001b[39m\u001b[39m\\t\u001b[39;00m\u001b[39m: \u001b[39m\u001b[39m{\u001b[39;00mcount_topic_lda\u001b[39m}\u001b[39;00m\u001b[39m\"\u001b[39m)\n",
      "\u001b[1;31mNameError\u001b[0m: name 'lda_top' is not defined"
     ]
    }
   ],
   "source": [
    "(count_doc_lda, count_topic_lda) = lda_top.shape\n",
    "print(f\"Jumlah dokumen\\t: {count_doc_lda}\")\n",
    "print(f\"Jumlah topik\\t: {count_topic_lda}\")"
   ]
  },
  {
   "cell_type": "code",
   "execution_count": 30,
   "metadata": {
    "_uuid": "d896b8fcf2c398367de4e7b7142e144fb4944f2d",
    "id": "Z6WmZLp3ehbY",
    "outputId": "002dfe31-7d3f-4186-8930-a12e175d6be3"
   },
   "outputs": [
    {
     "name": "stdout",
     "output_type": "stream",
     "text": [
      "Document 0: \n",
      "Topic  0 :  36.37929562061006 %\n",
      "Topic  1 :  63.62070437938995 %\n"
     ]
    }
   ],
   "source": [
    "# composition of doc 0 for eg\n",
    "print(\"Document 0: \")\n",
    "for i,topic in enumerate(lda_top[0]):\n",
    "  print(\"Topic \",i,\": \",topic*100,\"%\")"
   ]
  },
  {
   "cell_type": "markdown",
   "metadata": {
    "_uuid": "d24927b415ef64338a4b99e81c9cafd5225dfae5",
    "id": "NVgtw_L_g8N2"
   },
   "source": [
    "Seperti yang dapat dilihat pada program di atas bahwa Topic 1 lebih dominan daripada topik 0 pada document 0."
   ]
  },
  {
   "cell_type": "code",
   "execution_count": 59,
   "metadata": {
    "_uuid": "3ee132a423ca0bfe3107fa3dd2652d6c33d5bc4d",
    "id": "6OFxmyReiZIU",
    "outputId": "9dc5bcef-32cb-482d-c62c-e6644f12cc6e"
   },
   "outputs": [
    {
     "name": "stdout",
     "output_type": "stream",
     "text": [
      "Jumlah Topik\t: 2\n",
      "Jumlah kata\t: 358\n"
     ]
    }
   ],
   "source": [
    "(count_topic_lda, count_word_lda) = lda_model.components_.shape\n",
    "print(f\"Jumlah Topik\\t: {count_topic_lda}\")\n",
    "print(f\"Jumlah kata\\t: {count_word_lda}\")"
   ]
  },
  {
   "cell_type": "markdown",
   "metadata": {
    "_uuid": "8bf169b07cefbe2cd8e36bc1e2bd65ca7c398374",
    "id": "NoEr9qt1jgsM"
   },
   "source": [
    "#### 10 kata paling penting untuk suatu topik"
   ]
  },
  {
   "cell_type": "code",
   "execution_count": 49,
   "metadata": {},
   "outputs": [],
   "source": [
    "vocab = vect.get_feature_names_out()\n",
    "\n",
    "def get_important_words(comp, n):\n",
    "    vocab_comp = zip(vocab, comp)\n",
    "    sorted_words = sorted(vocab_comp, key= lambda x:x[1], reverse=True)[:n]\n",
    "    return \" \".join([t[0] for t in sorted_words])"
   ]
  },
  {
   "cell_type": "code",
   "execution_count": 50,
   "metadata": {
    "_uuid": "5c13c5563657ac5103a33615272320065542fb40",
    "id": "hKJHM0C-l0an",
    "outputId": "09fc0532-8444-42aa-85fa-a986ed72ee04"
   },
   "outputs": [
    {
     "name": "stdout",
     "output_type": "stream",
     "text": [
      "Topic 0: \n",
      "bangun berbasis intelligent sistem informasi web trunojoyo pembelajaran kabupaten rancang\n",
      "\n",
      "Topic 1: \n",
      "klasifikasi studi android sistem proses perancangan arsip evaluasi run informasi\n",
      "\n"
     ]
    }
   ],
   "source": [
    "for i, comp in enumerate(lda_model.components_):\n",
    "    print(\"Topic \"+str(i)+\": \")\n",
    "    print(get_important_words(comp, 10))\n",
    "    print(\"\")"
   ]
  },
  {
   "cell_type": "markdown",
   "metadata": {
    "_uuid": "854f0eb88cf78923db8137a2f41581eb9bbd5592"
   },
   "source": [
    "#### Visualisasi 50 kata penting menggunakan wordcloud"
   ]
  },
  {
   "cell_type": "code",
   "execution_count": 54,
   "metadata": {
    "_uuid": "5221ae4de021107ef757b87d45053460e50582c8",
    "id": "_ac73PUhmZmn"
   },
   "outputs": [],
   "source": [
    "# Generate a word cloud image for given topic\n",
    "def draw_word_cloud(index):\n",
    "  imp_words_topic = get_important_words(lda_model.components_[index], 50)\n",
    "  \n",
    "  wordcloud = WordCloud(width=600, height=400).generate(imp_words_topic)\n",
    "  plt.figure( figsize=(5,5))\n",
    "  plt.imshow(wordcloud)\n",
    "  plt.axis(\"off\")\n",
    "  plt.tight_layout()\n",
    "  plt.show()\n",
    " "
   ]
  },
  {
   "cell_type": "code",
   "execution_count": 55,
   "metadata": {
    "_uuid": "e5246db8bb1b751a1f3b96bb65d4da9e34dfc2ba",
    "id": "-tD4nZdRqnAk",
    "outputId": "8257c45d-92b5-4472-da45-864aaf803915"
   },
   "outputs": [
    {
     "data": {
      "image/png": "[encoded data removed]",
      "text/plain": [
       "<Figure size 360x360 with 1 Axes>"
      ]
     },
     "metadata": {},
     "output_type": "display_data"
    }
   ],
   "source": [
    "draw_word_cloud(0)"
   ]
  },
  {
   "cell_type": "code",
   "execution_count": 56,
   "metadata": {
    "_uuid": "74872c17b12680171090690f62ce77019e03ef52",
    "id": "Jz_zGbSws1ns",
    "outputId": "5289432c-61fb-48ec-df58-d28d383ea08d"
   },
   "outputs": [
    {
     "data": {
      "image/png": "[encoded data removed]",
      "text/plain": [
       "<Figure size 360x360 with 1 Axes>"
      ]
     },
     "metadata": {},
     "output_type": "display_data"
    }
   ],
   "source": [
    "draw_word_cloud(1)"
   ]
  }
 ],
 "metadata": {
  "kernelspec": {
   "display_name": "Python 3 (ipykernel)",
   "language": "python",
   "name": "python3"
  },
  "language_info": {
   "codemirror_mode": {
    "name": "ipython",
    "version": 3
   },
   "file_extension": ".py",
   "mimetype": "text/x-python",
   "name": "python",
   "nbconvert_exporter": "python",
   "pygments_lexer": "ipython3",
   "version": "3.10.5"
  }
 },
 "nbformat": 4,
 "nbformat_minor": 4
}
